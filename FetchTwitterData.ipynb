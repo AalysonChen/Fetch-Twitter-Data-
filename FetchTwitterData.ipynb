{
  "nbformat": 4,
  "nbformat_minor": 0,
  "metadata": {
    "colab": {
      "name": "FetchTwitterData.ipynb",
      "provenance": []
    },
    "kernelspec": {
      "name": "python3",
      "display_name": "Python 3"
    }
  },
  "cells": [
    {
      "cell_type": "markdown",
      "metadata": {
        "id": "cMn5pnhX78C6",
        "colab_type": "text"
      },
      "source": [
        "## I chose three cruelty free and vegan makeup products from Twitter as my target brands. "
      ]
    },
    {
      "cell_type": "code",
      "metadata": {
        "id": "sc8b4katdcSY",
        "colab_type": "code",
        "outputId": "766f274f-e6e8-4089-e941-fd14302b6e49",
        "colab": {
          "base_uri": "https://localhost:8080/",
          "height": 34
        }
      },
      "source": [
        "from google.colab import drive\n",
        "from pathlib import Path\n",
        "\n",
        "from google.colab import drive\n",
        "drive.mount('/content/drive')"
      ],
      "execution_count": 0,
      "outputs": [
        {
          "output_type": "stream",
          "text": [
            "Drive already mounted at /content/drive; to attempt to forcibly remount, call drive.mount(\"/content/drive\", force_remount=True).\n"
          ],
          "name": "stdout"
        }
      ]
    },
    {
      "cell_type": "code",
      "metadata": {
        "id": "xca55LTFgKYb",
        "colab_type": "code",
        "outputId": "e0a9bfc3-69e0-44af-8a4e-96dbbe749fcb",
        "colab": {
          "base_uri": "https://localhost:8080/",
          "height": 377
        }
      },
      "source": [
        "try:\n",
        "    import birdy\n",
        "except ModuleNotFoundError:\n",
        "    !pip install birdy\n",
        "try:\n",
        "    import ratelimiter\n",
        "except ModuleNotFoundError:\n",
        "    !pip install ratelimiter"
      ],
      "execution_count": 0,
      "outputs": [
        {
          "output_type": "stream",
          "text": [
            "Collecting birdy\n",
            "  Downloading https://files.pythonhosted.org/packages/cc/30/3f825b8d4248ebd9de9d218ba4b931c93be664e077c328c4b6dd19eb9d8a/birdy-0.3.2.tar.gz\n",
            "Requirement already satisfied: requests>=1.2.3 in /usr/local/lib/python3.6/dist-packages (from birdy) (2.21.0)\n",
            "Requirement already satisfied: requests_oauthlib>=0.3.2 in /usr/local/lib/python3.6/dist-packages (from birdy) (1.3.0)\n",
            "Requirement already satisfied: urllib3<1.25,>=1.21.1 in /usr/local/lib/python3.6/dist-packages (from requests>=1.2.3->birdy) (1.24.3)\n",
            "Requirement already satisfied: chardet<3.1.0,>=3.0.2 in /usr/local/lib/python3.6/dist-packages (from requests>=1.2.3->birdy) (3.0.4)\n",
            "Requirement already satisfied: certifi>=2017.4.17 in /usr/local/lib/python3.6/dist-packages (from requests>=1.2.3->birdy) (2019.11.28)\n",
            "Requirement already satisfied: idna<2.9,>=2.5 in /usr/local/lib/python3.6/dist-packages (from requests>=1.2.3->birdy) (2.8)\n",
            "Requirement already satisfied: oauthlib>=3.0.0 in /usr/local/lib/python3.6/dist-packages (from requests_oauthlib>=0.3.2->birdy) (3.1.0)\n",
            "Building wheels for collected packages: birdy\n",
            "  Building wheel for birdy (setup.py) ... \u001b[?25l\u001b[?25hdone\n",
            "  Created wheel for birdy: filename=birdy-0.3.2-cp36-none-any.whl size=10853 sha256=50a0fe13b93807e1c1a993ba49e9630900982fd9de001b43348b448dffcce0ce\n",
            "  Stored in directory: /root/.cache/pip/wheels/ad/f9/a7/928ef99a65cfa8182e42fb0a052b0a61faa69b7d085fae2723\n",
            "Successfully built birdy\n",
            "Installing collected packages: birdy\n",
            "Successfully installed birdy-0.3.2\n",
            "Collecting ratelimiter\n",
            "  Downloading https://files.pythonhosted.org/packages/51/80/2164fa1e863ad52cc8d870855fba0fbb51edd943edffd516d54b5f6f8ff8/ratelimiter-1.2.0.post0-py3-none-any.whl\n",
            "Installing collected packages: ratelimiter\n",
            "Successfully installed ratelimiter-1.2.0.post0\n"
          ],
          "name": "stdout"
        }
      ]
    },
    {
      "cell_type": "code",
      "metadata": {
        "id": "L4_CKZvNgRfD",
        "colab_type": "code",
        "colab": {}
      },
      "source": [
        "import json, os, sys, time\n",
        "from zipfile import ZipFile\n",
        "from birdy.twitter import AppClient, UserClient, TwitterRateLimitError\n",
        "from ratelimiter import RateLimiter\n",
        "\n",
        "\n",
        "\"\"\"\n",
        "Credentials can be found by selecting the \"Keys and tokens\" tab for your\n",
        "application selected from:\n",
        "\n",
        "https://developer.twitter.com/en/apps/\n",
        "\"\"\"\n",
        "DEFAULT_MAX_TWEETS = 10_000\n",
        "\n",
        "def limited(until):\n",
        "    duration = int(round(until - time.time()))\n",
        "    print('Rate limited, sleeping for {:d} seconds'.format(duration))\n",
        "\n",
        "\n",
        "class TwitterSearcher():\n",
        "\n",
        "    def __init__(self, consumer_key, consumer_secret,\n",
        "                 output_dir, max_tweets=DEFAULT_MAX_TWEETS):\n",
        "        self._consumer_key = consumer_key\n",
        "        self._consumer_secret = consumer_secret\n",
        "        self._output_dir = output_dir\n",
        "        self._max_tweets = max_tweets\n",
        "        self._client = None\n",
        "        self._max_id = None\n",
        "\n",
        "    def client(self):\n",
        "        if self._client is None:\n",
        "            _cl = AppClient(self._consumer_key, self._consumer_secret)\n",
        "            access_token = _cl.get_access_token()\n",
        "            self._client = AppClient(\n",
        "                self._consumer_key, self._consumer_secret, access_token)\n",
        "        return self._client\n",
        "\n",
        "    @RateLimiter(max_calls=440, period=60*15, callback=limited)\n",
        "    def fetch_tweets(self, query):\n",
        "        print(f'Fetching: \"{query}\" TO MAX ID: {self._max_id}')\n",
        "        client = self.client()\n",
        "        try:\n",
        "            tweets = client.api.search.tweets.get(\n",
        "                q=query,\n",
        "                count=100,\n",
        "                max_id=self._max_id).data['statuses']\n",
        "        except TwitterRateLimitError:\n",
        "            print(\"You've reached your Twitter API rate limit. \"\\\n",
        "                \"Wait 15 minutes before trying again\")\n",
        "            sys.exit()\n",
        "        try:\n",
        "            id_ = min([tweet['id'] for tweet in tweets])\n",
        "        except ValueError:\n",
        "            return None\n",
        "        if self._max_id is None or id_ <= self._max_id:\n",
        "            self._max_id = id_ - 1\n",
        "        return tweets\n",
        "\n",
        "    def initialize_max_id(self, file_list):\n",
        "        for fn in file_list:\n",
        "            n = int(fn.split('.')[0])\n",
        "            if self._max_id is None or n < self._max_id:\n",
        "                self._max_id = n - 1\n",
        "        if self._max_id is not None:\n",
        "            print('Found previously fetched tweets. '\\\n",
        "                  'Setting max_id to %d' % self._max_id)\n",
        "\n",
        "    def halt(self, _id):\n",
        "        print('Reached historically fetched ID: %d' % _id)\n",
        "        print('In order to re-fetch older tweets, ' \\\n",
        "            'remove tweets from the output directory or output zip file.')\n",
        "        print('\\n!!IMPORTANT: Tweets older than 7 days will not be re-fetched')\n",
        "        return\n",
        "\n",
        "    def search(self, query, dozip=True, verbose=False):\n",
        "        output_dir = os.path.join(self._output_dir, '_'.join(query.split()))\n",
        "        outzip = None\n",
        "        self._max_id = None\n",
        "        if not os.path.exists(output_dir):\n",
        "            os.makedirs(output_dir)\n",
        "        if dozip:\n",
        "            fn = os.path.join(output_dir, '%s.zip' % '_'.join(query.split()))\n",
        "            outzip = ZipFile(fn, 'a')\n",
        "        if dozip:\n",
        "            file_list = [f for f in outzip.namelist() if f.endswith('.json')]\n",
        "        else:\n",
        "            file_list = [f for f in os.listdir(output_dir) if f.endswith('.json')]\n",
        "        self.initialize_max_id(file_list)\n",
        "        try:\n",
        "            while True:\n",
        "                tweets = self.fetch_tweets(query)\n",
        "                if tweets is None:\n",
        "                    print('Search Completed')\n",
        "                    return\n",
        "                for tweet in tweets:\n",
        "                    if verbose:\n",
        "                        print(tweet['id'])\n",
        "                    fn = '%d.json' % tweet['id']\n",
        "                    if dozip:\n",
        "                        if fn in (file_list):\n",
        "                            self.halt(tweet['id'])\n",
        "                        else:\n",
        "                            outzip.writestr(fn, json.dumps(tweet, indent=4))\n",
        "                            file_list.append(fn)\n",
        "                    else:\n",
        "                        path = os.path.join(output_dir, fn)\n",
        "                        if fn in (file_list):\n",
        "                            self.halt(tweet['id'])\n",
        "                        else:\n",
        "                            with open(path, 'w') as outfile:\n",
        "                                json.dump(tweet, outfile, indent=4)\n",
        "                            file_list.append(fn)\n",
        "                    if len(file_list) >= self._max_tweets:\n",
        "                        print('Reached maximum tweet limit of: %d' % self._max_tweets)\n",
        "                        return\n",
        "        except KeyboardInterrupt:\n",
        "            print('Search interrupted. Re-run to continue.')\n",
        "            sys.exit()\n",
        "        except:\n",
        "            raise\n",
        "        finally:\n",
        "            if outzip is not None:\n",
        "                outzip.close()"
      ],
      "execution_count": 0,
      "outputs": []
    },
    {
      "cell_type": "code",
      "metadata": {
        "id": "cFZ-SnW8goqt",
        "colab_type": "code",
        "outputId": "600047d3-b3e3-4deb-9744-e9b74205cca0",
        "colab": {
          "base_uri": "https://localhost:8080/",
          "height": 969
        }
      },
      "source": [
        "CONSUMER_KEY= 'pfV1yY856ELPZNK1Q1nw9PAW2'\n",
        "CONSUMER_SECRET= 'd7807z2H7jEvqMyMLu2R5qLgtvGdmVQdVhIybNmT8dSJv0LwGf'\n",
        "OUTPUT_DIR = 'drive/My Drive/Colab Notebooks/twitter'\n",
        "\n",
        "searcher = TwitterSearcher(CONSUMER_KEY, CONSUMER_SECRET, OUTPUT_DIR)\n",
        "searcher.search('@tartecosmetics', dozip=True)\n",
        "searcher.search('@Urban Decay', dozip=True)\n",
        "searcher.search('@Glossier', dozip=True)"
      ],
      "execution_count": 0,
      "outputs": [
        {
          "output_type": "stream",
          "text": [
            "Fetching: \"@tartecosmetics\" TO MAX ID: None\n",
            "Fetching: \"@tartecosmetics\" TO MAX ID: 1229628506306277375\n",
            "Fetching: \"@tartecosmetics\" TO MAX ID: 1229602131902156799\n",
            "Fetching: \"@tartecosmetics\" TO MAX ID: 1229596037221883904\n",
            "Fetching: \"@tartecosmetics\" TO MAX ID: 1229524790312132615\n",
            "Fetching: \"@tartecosmetics\" TO MAX ID: 1229386299884417023\n",
            "Fetching: \"@tartecosmetics\" TO MAX ID: 1229192858567151616\n",
            "Fetching: \"@tartecosmetics\" TO MAX ID: 1229112010379534335\n",
            "Fetching: \"@tartecosmetics\" TO MAX ID: 1229072571049684991\n",
            "Fetching: \"@tartecosmetics\" TO MAX ID: 1229046034149576703\n",
            "Fetching: \"@tartecosmetics\" TO MAX ID: 1228867539612184576\n",
            "Fetching: \"@tartecosmetics\" TO MAX ID: 1228761744392118271\n",
            "Fetching: \"@tartecosmetics\" TO MAX ID: 1228544582603943937\n",
            "Fetching: \"@tartecosmetics\" TO MAX ID: 1228439555772207109\n",
            "Fetching: \"@tartecosmetics\" TO MAX ID: 1228369299707793407\n",
            "Fetching: \"@tartecosmetics\" TO MAX ID: 1228289929710637055\n",
            "Fetching: \"@tartecosmetics\" TO MAX ID: 1228162087354019839\n",
            "Fetching: \"@tartecosmetics\" TO MAX ID: 1228084865926451199\n",
            "Fetching: \"@tartecosmetics\" TO MAX ID: 1228032348698140671\n",
            "Fetching: \"@tartecosmetics\" TO MAX ID: 1227966766321631232\n",
            "Fetching: \"@tartecosmetics\" TO MAX ID: 1227778674772119552\n",
            "Fetching: \"@tartecosmetics\" TO MAX ID: 1227649345320890368\n",
            "Fetching: \"@tartecosmetics\" TO MAX ID: 1227428159878025216\n",
            "Fetching: \"@tartecosmetics\" TO MAX ID: 1227313532628328449\n",
            "Fetching: \"@tartecosmetics\" TO MAX ID: 1227242546327322623\n",
            "Fetching: \"@tartecosmetics\" TO MAX ID: 1227098630294790143\n",
            "Fetching: \"@tartecosmetics\" TO MAX ID: 1227066036744327170\n",
            "Fetching: \"@tartecosmetics\" TO MAX ID: 1227049646431686658\n",
            "Fetching: \"@tartecosmetics\" TO MAX ID: 1227028542556266496\n",
            "Fetching: \"@tartecosmetics\" TO MAX ID: 1227010195261444099\n",
            "Fetching: \"@tartecosmetics\" TO MAX ID: 1226999836148412420\n",
            "Fetching: \"@tartecosmetics\" TO MAX ID: 1226993425297240063\n",
            "Fetching: \"@tartecosmetics\" TO MAX ID: 1226941156338040832\n",
            "Fetching: \"@tartecosmetics\" TO MAX ID: 1226894037908672511\n",
            "Fetching: \"@tartecosmetics\" TO MAX ID: 1226717707028049922\n",
            "Fetching: \"@tartecosmetics\" TO MAX ID: 1226614973327118338\n",
            "Fetching: \"@tartecosmetics\" TO MAX ID: 1226558683607371778\n",
            "Fetching: \"@tartecosmetics\" TO MAX ID: 1226446963102511103\n",
            "Fetching: \"@tartecosmetics\" TO MAX ID: 1226206272132984831\n",
            "Search Completed\n",
            "Fetching: \"@Urban Decay\" TO MAX ID: None\n",
            "Search Completed\n",
            "Fetching: \"@Glossier\" TO MAX ID: None\n",
            "Fetching: \"@Glossier\" TO MAX ID: 1229489983410573315\n",
            "Fetching: \"@Glossier\" TO MAX ID: 1229386769407381504\n",
            "Fetching: \"@Glossier\" TO MAX ID: 1228913744647946239\n",
            "Fetching: \"@Glossier\" TO MAX ID: 1228484869128364033\n",
            "Fetching: \"@Glossier\" TO MAX ID: 1228221585225469951\n",
            "Fetching: \"@Glossier\" TO MAX ID: 1227944643146526719\n",
            "Fetching: \"@Glossier\" TO MAX ID: 1227519957833048063\n",
            "Fetching: \"@Glossier\" TO MAX ID: 1227320914913693695\n",
            "Fetching: \"@Glossier\" TO MAX ID: 1227006833010757631\n",
            "Fetching: \"@Glossier\" TO MAX ID: 1226922306292912128\n",
            "Fetching: \"@Glossier\" TO MAX ID: 1226532340316299264\n",
            "Fetching: \"@Glossier\" TO MAX ID: 1226231378536214528\n",
            "Search Completed\n"
          ],
          "name": "stdout"
        }
      ]
    }
  ]
}